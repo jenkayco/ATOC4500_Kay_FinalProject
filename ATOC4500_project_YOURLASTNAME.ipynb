{
  "nbformat": 4,
  "nbformat_minor": 0,
  "metadata": {
    "colab": {
      "name": "ATOC4500_project_YOURLASTNAME.ipynb",
      "provenance": [],
      "collapsed_sections": []
    },
    "kernelspec": {
      "name": "python3",
      "display_name": "Python 3"
    },
    "language_info": {
      "name": "python"
    }
  },
  "cells": [
    {
      "cell_type": "markdown",
      "source": [
        "###**ATOC4500 Data Science Lab: Final Project**\n",
        "###**Title of Your Project**\n",
        "###Author: Your Name, Your e-mail address###\n",
        "###last updated: March 21, 2022###\n",
        "\n",
        "**>>>> This code is available on github at (insert URL)**\n",
        "\n",
        "**>>>> NOTE: Please run this and other notebooks using a Chrome browser**"
      ],
      "metadata": {
        "id": "PZq8RkP9cfbx"
      }
    },
    {
      "cell_type": "markdown",
      "source": [
        "###**Introduction:** Write your text here.  Include a hypothesis and underlying motivation.\n",
        "\n"
      ],
      "metadata": {
        "id": "6_rTpdWQcwSG"
      }
    },
    {
      "cell_type": "markdown",
      "source": [
        "###**Step 1: Read in data**\n",
        "\n"
      ],
      "metadata": {
        "id": "dSbDDXeFc9j8"
      }
    },
    {
      "cell_type": "markdown",
      "source": [
        "include description of your data here"
      ],
      "metadata": {
        "id": "-SmluVg7doAb"
      }
    },
    {
      "cell_type": "code",
      "source": [
        "## add code cells here to read in your data"
      ],
      "metadata": {
        "id": "uOliUhKEdOK8"
      },
      "execution_count": 1,
      "outputs": []
    },
    {
      "cell_type": "markdown",
      "source": [
        "###**Step 2: Munge data**"
      ],
      "metadata": {
        "id": "FvP4Qge7dI9a"
      }
    },
    {
      "cell_type": "markdown",
      "source": [
        "include description of all data processing steps here"
      ],
      "metadata": {
        "id": "Eb5MWdRfdmlA"
      }
    },
    {
      "cell_type": "code",
      "source": [
        "## add code cells here to process your data to prepare it for the data science method, i.e. \"munge\" it"
      ],
      "metadata": {
        "id": "kA5-4Su5cuwu"
      },
      "execution_count": 2,
      "outputs": []
    },
    {
      "cell_type": "markdown",
      "source": [
        "###**Step 3: Apply Data Science Method(s)**"
      ],
      "metadata": {
        "id": "z38-ucl_dbBH"
      }
    },
    {
      "cell_type": "markdown",
      "source": [
        "include description of step 3 here, include assumptions"
      ],
      "metadata": {
        "id": "D6gk_HMzdh78"
      }
    },
    {
      "cell_type": "code",
      "source": [
        "## add code cells here to apply your data science method"
      ],
      "metadata": {
        "id": "8N0qMrPcdWMv"
      },
      "execution_count": null,
      "outputs": []
    },
    {
      "cell_type": "markdown",
      "source": [
        "###**Step 4: Present results visually using 2-3 graphs**"
      ],
      "metadata": {
        "id": "nun4KPZcdtOF"
      }
    },
    {
      "cell_type": "code",
      "source": [
        "## add code cells here to plot the results here"
      ],
      "metadata": {
        "id": "yvBxvUa4dxjs"
      },
      "execution_count": 3,
      "outputs": []
    },
    {
      "cell_type": "markdown",
      "source": [
        "###**Summary**: Write your text here. Discuss what you found including how it relates to your hypothesis and underlying motivation."
      ],
      "metadata": {
        "id": "F2KAwWkId3JE"
      }
    }
  ]
}